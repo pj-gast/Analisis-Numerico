{
 "cells": [
  {
   "cell_type": "raw",
   "metadata": {},
   "source": [
    "Ejercicios 4.1"
   ]
  },
  {
   "cell_type": "raw",
   "metadata": {
    "vscode": {
     "languageId": "raw"
    }
   },
   "source": [
    "11: Test the program by finding the roots of\n",
    "x sin x + 3 cos x - x = 0 in (-6, 6).(Newton-Raphson)"
   ]
  },
  {
   "cell_type": "code",
   "execution_count": 3,
   "metadata": {},
   "outputs": [
    {
     "name": "stdout",
     "output_type": "stream",
     "text": [
      "0\n",
      "1\n",
      "2\n",
      "3\n",
      "4\n",
      "5\n",
      "Root = 1.5707963267948966\n"
     ]
    }
   ],
   "source": [
    "import sys\n",
    "from math import sin, cos\n",
    "## Modulo Newton-Raphson\n",
    "## raiz = newtonRaphson(f,df,a,b,tol=1.0e-9).\n",
    "## Encuentra la raiz de f(x) = 0 combinando Newton-Raphson\n",
    "## con biseccion. La raiz debe estar en el intervalo (a,b).\n",
    "## Los usuarios definen f(x) y su derivada df(x).\n",
    "def err(string):\n",
    "  print(string)\n",
    "  input('Press return to exit')\n",
    "  sys.exit()\n",
    "\n",
    "def newtonRaphson(f,df,a,b,tol=1.0e-9):\n",
    "  from numpy import sign\n",
    "  fa = f(a)\n",
    "  if fa == 0.0: return a\n",
    "  fb = f(b)\n",
    "  if fb == 0.0: return b\n",
    "  if sign(fa) == sign(fb): err('La raiz no esta en el intervalo')\n",
    "  x = 0.5*(a + b)\n",
    "  for i in range(30):\n",
    "    print(i)\n",
    "    fx = f(x)\n",
    "    if fx == 0.0: return x \n",
    "    if sign(fa) != sign(fx): b = x # Haz el intervalo mas pequeño\n",
    "    else: a = x\n",
    "    dfx = df(x)  \n",
    "    try: dx = -fx/dfx # Trata un paso con la expresion de Delta x\n",
    "    except ZeroDivisionError: dx = b - a # Si division diverge, intervalo afuera\n",
    "    x = x + dx # avanza en x\n",
    "    if (b - x)*(x - a) < 0.0: # Si el resultado esta fuera, usa biseccion\n",
    "      dx = 0.5*(b - a)\n",
    "      x = a + dx \n",
    "    if abs(dx) < tol*max(abs(b),1.0): return x # Checa la convergencia y sal\n",
    "  print('Too many iterations in Newton-Raphson')\n",
    "  \n",
    "def f(x): return x*sin(x) + 3*cos(x) - x\n",
    "def df(x): return x*cos(x) - 2*sin(x) - 1\n",
    "root = newtonRaphson(f,df,-6.0,6)\n",
    "print('Root =',root)"
   ]
  },
  {
   "cell_type": "raw",
   "metadata": {
    "vscode": {
     "languageId": "raw"
    }
   },
   "source": [
    "19: The speed v of a Saturn V rocket in vertical flight near the surface of earth can\n",
    "be approximated by v = u ln(M_0 / (M_0 - mt)) - gt\n",
    "where\n",
    "u = 2 510 m/s = velocity of exhaust relative to the rocket\n",
    "M0 = 2.8 x 106 kg = mass of rocket at liftoff\n",
    "m˙ = 13.3 x 103 kg/s = rate of fuel consumption\n",
    "g = 9.81 m/s2 = gravitational acceleration\n",
    "t = time measured from liftoff\n",
    "Determine the time when the rocket reaches the speed of sound (335 m/s)"
   ]
  },
  {
   "cell_type": "code",
   "execution_count": 9,
   "metadata": {},
   "outputs": [
    {
     "name": "stdout",
     "output_type": "stream",
     "text": [
      "La raiz es: 70.87797\n",
      "Numero de bisecciones: 27\n",
      "El cohete alcanza mach 1 en 70.87797 segundos\n"
     ]
    }
   ],
   "source": [
    "from numpy import log as ln\n",
    "#Igualamos a cero y hacemos un cambio de variable t=x\n",
    "#v - u * ln(M0 / (M0 - m*x)) + g*x = 0\n",
    "v = 335 \n",
    "u = 2510 \n",
    "M0 = 2.8 * 10**6 \n",
    "m = 13.3 * 10**3 \n",
    "g = 9.81\n",
    "#Como la derivada de esta relación no es directa, obtaremos por usar otro método, como por ejemplo, bisección\n",
    "x1 = 0                # primer valor del intervalo\n",
    "x2 = 200             # segudo valor del intervalo\n",
    "y1 = v - u * ln(M0 / (M0 - m*x1)) + g*x1    # calcula y1\n",
    "y2 = v - u * ln(M0 / (M0 - m*x2)) + g*x2    # calcula y2\n",
    "if y1*y2 > 0:          # prueba si los signos son iguales\n",
    "    print('No hay raices en el intervalo dado')\n",
    "    exit               # termina el programa  #falta encontrar el buen EXIT!!\n",
    "for i in range(1,101): # asume que 100 bisecciones son suficientes\n",
    "  xh = (x1+x2)/2         # calcula el valor medio\n",
    "  yh = v - u * ln(M0 / (M0 - m*xh)) + g*xh    # calcula el valor de y en el valor medio yh\n",
    "  y1 = v - u * ln(M0 / (M0 - m*x1)) + g*x1   # calcula y1\n",
    "  if abs(y1) < 1.0e-6:   # condicion de acercamiento a la solucion (tol)\n",
    "    break                  # salir del loop\n",
    "  elif y1*yh < 0:        # si el signo es diferente quedarse en la primera mitad\n",
    "    x2 = xh                # que x2 sea el punto medio\n",
    "  else:                  # si el signo es igual quedarse en la segunda mitad\n",
    "    x1 = xh                # que x1 sea el punto medio\n",
    "print('La raiz es: %.5f' % x1)\n",
    "print('Numero de bisecciones: %d' % i)\n",
    "print('El cohete alcanza mach 1 en %.5f' % x1 ,'segundos')\n"
   ]
  },
  {
   "cell_type": "raw",
   "metadata": {
    "vscode": {
     "languageId": "raw"
    }
   },
   "source": [
    "Ejercicios 5.1"
   ]
  },
  {
   "cell_type": "raw",
   "metadata": {
    "vscode": {
     "languageId": "raw"
    }
   },
   "source": [
    "9: Use the data in the table to compute f'(0.2) as accurately: as possible:\n",
    "x = [0.0, 0.1, 0.2, 0.3, 0.4]\n",
    "f(x) = [0.000000, 0.078348, 0.138910, 0.192916, 0.244981]"
   ]
  },
  {
   "cell_type": "code",
   "execution_count": 16,
   "metadata": {},
   "outputs": [
    {
     "name": "stdout",
     "output_type": "stream",
     "text": [
      "0.57284\n"
     ]
    }
   ],
   "source": [
    "fx = 0.138910 # f(0.2)\n",
    "h = 0.1\n",
    "fxh = 0.192916 # f(x+h)\n",
    "fx_h = 0.078348 # f(x-h)\n",
    "\n",
    "\n",
    "dfc=(fxh-fx_h)/(2*h)\n",
    "print(dfc)"
   ]
  },
  {
   "cell_type": "raw",
   "metadata": {
    "vscode": {
     "languageId": "raw"
    }
   },
   "source": [
    "10:Using five significant figures in the computations, determine d(sin x)/dx at x =\n",
    "0.8 from (a) the first forward difference approximation and (b) the first central\n",
    "difference approximation. In each case, use h that gives the most accurate result\n",
    "(this requires experimentation)."
   ]
  },
  {
   "cell_type": "code",
   "execution_count": 12,
   "metadata": {},
   "outputs": [
    {
     "name": "stdout",
     "output_type": "stream",
     "text": [
      "Con la aproximación central tenemos que\n",
      "   h     5 dígitos   Error\n",
      "---------------------------\n",
      "0.500000   0.668040    4.12\n",
      "0.250000   0.689460    1.04\n",
      "0.125000   0.694880    0.26\n",
      "0.062500   0.696240    0.07\n",
      "0.031250   0.696480    0.03\n",
      "0.015625   0.696640    0.01\n",
      "0.007812   0.696960    0.04\n",
      "0.003906   0.696320    0.06\n",
      "0.001953   0.698880    0.31\n",
      "0.000977   0.696320    0.06\n",
      "\n",
      "Con la aproximación forward tenemos que\n",
      "   h     5 dígitos   Error\n",
      "---------------------------\n",
      "0.500000   0.728310    4.54\n",
      "0.250000   0.708080    1.63\n",
      "0.125000   0.699920    0.46\n",
      "0.062500   0.697440    0.10\n",
      "0.031250   0.696480    0.03\n",
      "0.015625   0.696000    0.10\n",
      "0.007812   0.696960    0.04\n",
      "0.003906   0.693760    0.42\n",
      "0.001953   0.698880    0.31\n",
      "0.000977   0.696320    0.06\n",
      "\n"
     ]
    }
   ],
   "source": [
    "from math import sin, cos\n",
    "\n",
    "# Función a derivar con n decimales\n",
    "def f(x, n):\n",
    "    return round(sin(x), n)\n",
    "\n",
    "def df(x, n):\n",
    "    return round(cos(x), n)\n",
    "\n",
    "# Con aproximación central\n",
    "def dfc(x, h, f, n):\n",
    "    dfc = (f(x+h, n) - f(x-h, n)) / (2*h)\n",
    "    return dfc\n",
    "\n",
    "# Con aproximación forward\n",
    "def dff(x, h, f, n):\n",
    "    dff = (4*f(x+h, n) - f(x + 2*h, n) - 3*f(x, n)) / (2*h)\n",
    "    return dff\n",
    "\n",
    "# Derivada de f con aproximación central\n",
    "# Valor de h de prueba\n",
    "# El valor de h más adecuado será el que tenga el error más pequeño\n",
    "h = 0.50\n",
    "\n",
    "print(\"Con la aproximación central tenemos que\")\n",
    "print(\"   h     5 dígitos   Error\")\n",
    "print(\"---------------------------\")\n",
    "for i in range(10):\n",
    "  E1=abs(((df(0.8, 5)-dfc(0.8, h, f, 5))/df(0.8, 5))*100)\n",
    "  print(\"%.6f   %.6f    %.2f\" %(h, dfc(0.8 , h, f, 5),E1))\n",
    "  h=h/2\n",
    "print()\n",
    "\n",
    "# Derivada de f con aproximación forward\n",
    "h = 0.5\n",
    "\n",
    "print(\"Con la aproximación forward tenemos que\")\n",
    "print(\"   h     5 dígitos   Error\")\n",
    "print(\"---------------------------\")\n",
    "for i in range(10):\n",
    "  E1=abs(((df(0.8, 5)-dff(0.8, h, f, 5))/df(0.8, 5))*100)\n",
    "  print(\"%.6f   %.6f    %.2f\" %(h, dff(0.8 , h, f, 5),E1))\n",
    "  h=h/2\n",
    "print()\n"
   ]
  },
  {
   "cell_type": "raw",
   "metadata": {},
   "source": [
    "Ejercicios 6.1"
   ]
  },
  {
   "cell_type": "raw",
   "metadata": {
    "vscode": {
     "languageId": "raw"
    }
   },
   "source": [
    "1. Use the recursive trapezoidal rule to evaluate"
   ]
  },
  {
   "cell_type": "code",
   "execution_count": 17,
   "metadata": {},
   "outputs": [
    {
     "name": "stdout",
     "output_type": "stream",
     "text": [
      "Integral = 0.2721982612879502\n",
      "n Panels = 2\n"
     ]
    }
   ],
   "source": [
    "from numpy import log as ln\n",
    "from math import tan, pi\n",
    "def trapecio_recursiva(f,a,b,Iold,k):\n",
    "  if k == 1: Inew = (f(a) + f(b))*(b - a)/2.0\n",
    "  else:\n",
    "    n = 2**(k -2 ) # numero de nuevos puntos\n",
    "    h = (b - a)/n # espaciamiento de nuevos puntos\n",
    "    x = a + h/2.0\n",
    "    sum = 0.0\n",
    "    for i in range(n):\n",
    "      sum = sum + f(x)\n",
    "      x = x + h\n",
    "      Inew = (Iold + h*sum)/2.0\n",
    "  return Inew\n",
    "import math\n",
    "def f(x): return ln(1+tan(x)) \n",
    "Iold = 0.0\n",
    "for k in range(1,21):\n",
    "  Inew = trapecio_recursiva(f,0.0, pi/4,Iold,k)\n",
    "  if (k > 1) and (abs(Inew - Iold)) < 1.0e-6: break\n",
    "  Iold = Inew\n",
    "\n",
    "print('Integral =',Inew)\n",
    "print('n Panels =',2**(k-1))"
   ]
  }
 ],
 "metadata": {
  "kernelspec": {
   "display_name": "usr",
   "language": "python",
   "name": "python3"
  },
  "language_info": {
   "codemirror_mode": {
    "name": "ipython",
    "version": 3
   },
   "file_extension": ".py",
   "mimetype": "text/x-python",
   "name": "python",
   "nbconvert_exporter": "python",
   "pygments_lexer": "ipython3",
   "version": "3.12.3"
  }
 },
 "nbformat": 4,
 "nbformat_minor": 2
}
