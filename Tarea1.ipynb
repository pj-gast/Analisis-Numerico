{
 "cells": [
  {
   "cell_type": "markdown",
   "metadata": {},
   "source": [
    "Primer parcial Análisis Numérico"
   ]
  },
  {
   "cell_type": "markdown",
   "metadata": {},
   "source": [
    "Ejercicio 1\n"
   ]
  },
  {
   "cell_type": "raw",
   "metadata": {},
   "source": [
    "Convertir grados Fahrenheit a Celsius"
   ]
  },
  {
   "cell_type": "code",
   "execution_count": 2,
   "metadata": {},
   "outputs": [
    {
     "name": "stdout",
     "output_type": "stream",
     "text": [
      "5 grado(s) Fahrenheit equivalen a -15 grado(s) Celsius \n"
     ]
    }
   ],
   "source": [
    "F=float(input(\"Ingrese los grados Fahrenheit: \"))\n",
    "if F.is_integer():  #Si no tiene decimales se convierte en entero.\n",
    "   F=int(F)\n",
    "C=5/9*(F-32) #Funcion para convertir de F a C\n",
    "if C.is_integer():  #Si tiene decimales se redondea a dos decimales.\n",
    "  C=round(C,2)  \n",
    "  if C%1==0:  #Si no tiene decimales se convierte en entero.\n",
    "     C=int(C)\n",
    "else:      \n",
    "  C=int(C)\n",
    "\n",
    "\n",
    "print(f'{F} grado(s) Fahrenheit equivalen a {C} grado(s) Celsius ')\n",
    "\n",
    "\n"
   ]
  },
  {
   "cell_type": "raw",
   "metadata": {},
   "source": [
    "Convertir grados Celsius a Fahrenheit"
   ]
  },
  {
   "cell_type": "code",
   "execution_count": 4,
   "metadata": {},
   "outputs": [
    {
     "name": "stdout",
     "output_type": "stream",
     "text": [
      "6 grado(s) Celsius equivalen a 42.8 grado(s) Fahrenheit \n"
     ]
    }
   ],
   "source": [
    "C=float(input(\"Ingrese los grados Celsius: \"))\n",
    "C=int(C)if C.is_integer() else C  \n",
    "   \n",
    "F=9/5*C + 32 #Funcion para convertir de F a C\n",
    "F = round(F, 2)\n",
    "F= int(F) if F.is_integer() else F\n",
    "\n",
    "\n",
    "print(f'{C} grado(s) Celsius equivalen a {F} grado(s) Fahrenheit ')\n"
   ]
  },
  {
   "cell_type": "markdown",
   "metadata": {},
   "source": [
    "Ejercicio 2\n",
    "\n",
    "\n",
    "Considera la definicion sinh como:\n",
    "sinh(x) = e^x - e^-x / 2\n",
    "Calcule el valor del sinh(x) para x = 2pi"
   ]
  },
  {
   "cell_type": "code",
   "execution_count": null,
   "metadata": {},
   "outputs": [],
   "source": [
    "import math as mt\n",
    "\n",
    "#1: Evaluando directamente\n",
    "\n",
    "x = mt.pi*2\n",
    "sinh = mt.sinh(x)\n",
    "\n",
    "#2: Usando la función exponencial\n",
    "\n",
    "sinh2 = (mt.exp(x) - mt.exp(-x))/2\n",
    "\n",
    "#3: Usando la definición:\n",
    "    \n",
    "sinh3 = (mt.e**x - mt.e**-x)/2\n",
    "\n",
    "print(sinh)\n",
    "print(sinh2)\n",
    "print(sinh3)\n",
    "    \n"
   ]
  },
  {
   "cell_type": "markdown",
   "metadata": {},
   "source": [
    "Ejercicio 3 "
   ]
  },
  {
   "cell_type": "raw",
   "metadata": {
    "vscode": {
     "languageId": "raw"
    }
   },
   "source": [
    "1. Considera la relación entre el seno en variable compleja y el seno hiperbólico en variable real x\n",
    "\n",
    "sin(ix) = isinh(x)\n",
    "\n",
    "En tu portafolio de clase, elabora un programa que calcule el valor de sin(ix) y de isinh(x)\n",
    " para ciertos valores dados de x, para verificar la identidad."
   ]
  },
  {
   "cell_type": "code",
   "execution_count": 14,
   "metadata": {},
   "outputs": [
    {
     "name": "stdout",
     "output_type": "stream",
     "text": [
      "sin(ix)=27.28991719712775j\n",
      "isinh(x)= 27.28991719712775j\n",
      "ambos resultados son iguales, por lo tanto se comprueba la identidad\n"
     ]
    }
   ],
   "source": [
    "import cmath\n",
    "import math\n",
    "x=int(input('Ingrese un número: '))\n",
    "\n",
    "y=cmath.sin(1j*x)\n",
    "print(f'sin(ix)={y}')\n",
    "y_2=1j*math.sinh(x)\n",
    "print(f'isinh(x)= {y_2}')\n",
    "print(\"ambos resultados son iguales, por lo tanto se comprueba la identidad\")"
   ]
  },
  {
   "cell_type": "raw",
   "metadata": {
    "vscode": {
     "languageId": "raw"
    }
   },
   "source": [
    "2.Considera la relación de Euler para x real,\n",
    "e^ix = cos(x) + isin(x)\n",
    "En tu portafolio de clase, elabora un programa que calcule ambos lados de la identidad\n",
    "con ciertos valores dados de x, para verificar la identidad.\n"
   ]
  },
  {
   "cell_type": "code",
   "execution_count": 15,
   "metadata": {},
   "outputs": [
    {
     "name": "stdout",
     "output_type": "stream",
     "text": [
      "e^ix = (-0.9899924966004454+0.1411200080598672j) \n",
      "cos(x) + isin(x) = (-0.9899924966004454+0.1411200080598672j)\n",
      "Son iguales, por lo tanto se verifica la identidad.\n"
     ]
    }
   ],
   "source": [
    "x=int(input('Ingrese un numero: '))\n",
    "y=cmath.exp(1j*x)\n",
    "y_2 = math.cos(x) + 1j*math.sin(x)\n",
    "print(f'e^ix = {y} \\ncos(x) + isin(x) = {y_2}\\nSon iguales, por lo tanto se verifica la identidad.')"
   ]
  },
  {
   "cell_type": "markdown",
   "metadata": {
    "vscode": {
     "languageId": "raw"
    }
   },
   "source": [
    "Ejercicio 4"
   ]
  },
  {
   "cell_type": "raw",
   "metadata": {
    "vscode": {
     "languageId": "raw"
    }
   },
   "source": [
    "Este tratamiento flexible de funciones en el plano complejo permite encontrar las raices reales o complejas, de una función cuadrática. \n",
    "Considera que las raices de f(z) = az^2 + bz + c  se obtienen de la formula cuadratica.\n",
    "\n",
    "En tu portafolio de clase, elabora un programa en el que uses Numpy para calcular el valor de las raices con diferentes valores dados de a,b,c\n",
    ", para obtener ejemplos de raices reales y complejas."
   ]
  },
  {
   "cell_type": "code",
   "execution_count": 7,
   "metadata": {},
   "outputs": [
    {
     "name": "stdout",
     "output_type": "stream",
     "text": [
      "Las raices son: (-1+1j),(-1-1j)\n"
     ]
    }
   ],
   "source": [
    "import numpy as np \n",
    "\n",
    "a=int(input('Ingrese el primer coeficiente: '))\n",
    "b=int(input('Ingrese el segundo coeficiente: '))\n",
    "c=int(input('Ingrese el tercer coeficiente: '))\n",
    "coefs=(a,b,c)\n",
    "raices=np.roots(coefs)\n",
    "raices = [complex(round(r.real, 10), round(r.imag, 10)) for r in raices]\n",
    "print(f'Las raices son: {raices[0]},{raices[1]}')"
   ]
  },
  {
   "cell_type": "markdown",
   "metadata": {},
   "source": [
    "Ejercicio 5"
   ]
  },
  {
   "cell_type": "raw",
   "metadata": {
    "vscode": {
     "languageId": "raw"
    }
   },
   "source": [
    "¿Cuál es la trayectoria de una pelota que se lanza con una rapidéz inicial v_0 a un ángulo theta medido de la horizontal?\n",
    "\n",
    "Sabemos que la pelota seguirá una trayectoria y=f(x), donde, en ausencia de resistencia del aire,\n",
    "\n",
    " f(x)=xtan(theta) -gx^2/2(v_0)^2cos^2(theta) y_0\n",
    " \n",
    "\n",
    "En esta expresión, x es la coordenada horizontal, g es la aceleración de la gravedad y y_0 es la posición inicial de la pelota.\n",
    "\n",
    "1.En tu portafolio de clase, elabora un programa en el que evalues esta expresión. \n",
    "El programa debe escribir el valor de todas las variables involucradas junto con las unidades usadas.\n"
   ]
  },
  {
   "cell_type": "code",
   "execution_count": null,
   "metadata": {},
   "outputs": [
    {
     "name": "stdout",
     "output_type": "stream",
     "text": [
      "Rapidez inicial: 10.0 m/s\n",
      "Ángulo: 45.0 grados\n",
      "Altura inicial: 0.0 m\n",
      "Posicion: 0.0 m\n",
      "Gravedad: 9.81 m/s^2\n",
      "Altura: 0.0 m\n"
     ]
    }
   ],
   "source": [
    "import numpy as np\n",
    "\n",
    "v0 = float(input(\"Ingrese la rapidez inicial (m/s): \"))\n",
    "theta = float(input(\"Ingrese el ángulo de lanzamiento (grados): \"))\n",
    "y0 = float(input(\"Ingrese la altura inicial (m): \"))\n",
    "x= float(input(\"Ingrese la posicion (m): \"))\n",
    "theta_rad = np.radians(theta)  \n",
    "g = 9.81    \n",
    "\n",
    "y = x * np.tan(theta_rad) - (g * x**2) / (2 * v0**2 * np.cos(theta_rad)**2) + y0\n",
    "    \n",
    "print(f\"Rapidez inicial: {v0} m/s\")\n",
    "print(f\"Ángulo: {theta} grados\")\n",
    "print(f\"Altura inicial: {y0} m\")\n",
    "print(f\"Posicion: {x} m\")\n",
    "print(f\"Gravedad: {g} m/s^2\")\n",
    "print(f\"Altura: {y} m\")\n",
    "\n"
   ]
  }
 ],
 "metadata": {
  "kernelspec": {
   "display_name": "Python 3",
   "language": "python",
   "name": "python3"
  },
  "language_info": {
   "codemirror_mode": {
    "name": "ipython",
    "version": 3
   },
   "file_extension": ".py",
   "mimetype": "text/x-python",
   "name": "python",
   "nbconvert_exporter": "python",
   "pygments_lexer": "ipython3",
   "version": "3.12.3"
  }
 },
 "nbformat": 4,
 "nbformat_minor": 2
}
