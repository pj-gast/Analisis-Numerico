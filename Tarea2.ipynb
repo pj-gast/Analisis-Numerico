{
 "cells": [
  {
   "cell_type": "markdown",
   "metadata": {},
   "source": [
    "### Intersección de trayectorias.\n",
    "\n",
    "Tres objetos se mueven de tal manera que sus trayectorias son:\n",
    "$$\n",
    "2x-y+3z=24\\\n",
    "$$\n",
    "$$\n",
    "2y-z=14\\\n",
    "$$\n",
    "$$\n",
    "7x-5y=6\\\n",
    "$$\n",
    "Encontrar su punto de intersección."
   ]
  },
  {
   "cell_type": "code",
   "execution_count": 1,
   "metadata": {},
   "outputs": [
    {
     "name": "stdout",
     "output_type": "stream",
     "text": [
      "La matriz de coeficientes es:\n",
      "  [[ 2. -1.  3.]\n",
      " [ 0.  2. -1.]\n",
      " [ 7. -5.  0.]]\n",
      "La matriz constante es:\n",
      "  [[24.]\n",
      " [14.]\n",
      " [ 6.]]\n",
      "La matriz aumentada es :\n",
      " [[ 2. -1.  3. 24.]\n",
      " [ 0.  2. -1. 14.]\n",
      " [ 7. -5.  0.  6.]]\n",
      "El siguiente elemento del procedimiento es: \n",
      "[[  2.   -1.    3.   24. ]\n",
      " [  0.    2.   -1.   14. ]\n",
      " [  0.   -1.5 -10.5 -78. ]]\n",
      "El siguiente elemento del procedimiento es: \n",
      "[[  2.    -1.     3.    24.  ]\n",
      " [  0.     2.    -1.    14.  ]\n",
      " [  0.     0.   -11.25 -67.5 ]]\n",
      "El vector solución es :\n",
      " [[ 8.]\n",
      " [10.]\n",
      " [ 6.]]\n"
     ]
    }
   ],
   "source": [
    "#Programa de eliminación Gaussiana mostrando los pasos\n",
    "import numpy as np\n",
    "\n",
    "a = np.array([[2.0, -1.0, 3.0], [0, 2.0, -1.0], [7.0, -5.0, 0]])\n",
    "print('La matriz de coeficientes es:\\n ', a)\n",
    "b = np.array([[24.0], [14.0], [6.0]])\n",
    "n = len(b)\n",
    "print('La matriz constante es:\\n ', b)\n",
    "\n",
    "matriz_aumentada = np.concatenate((a,b), axis=1, dtype=float)\n",
    "print('La matriz aumentada es :\\n', matriz_aumentada)\n",
    "\n",
    "\n",
    "def gaussElimin(a,b):\n",
    "  # Fase de eliminacion\n",
    "  for k in range(0,n-1):\n",
    "    for i in range(k+1,n):\n",
    "      if matriz_aumentada[i,k] != 0.0:\n",
    "        lam = matriz_aumentada[i,k]/matriz_aumentada[k,k]\n",
    "        matriz_aumentada[i] = matriz_aumentada[i] - lam*matriz_aumentada[k]\n",
    "        b[i] = b[i] - lam*b[k]\n",
    "        print(f'El siguiente elemento del procedimiento es: {'\\n'}{matriz_aumentada}')\n",
    "  # Fase de sustitucion hacia atras\n",
    "  for k in range(n-1,-1,-1):\n",
    "    b[k] = (b[k] - np.dot(matriz_aumentada[k,k+1:n],b[k+1:n]))/matriz_aumentada[k,k]\n",
    "  return b\n",
    "\n",
    "\n",
    "print('El vector solución es :\\n',gaussElimin(a,b))"
   ]
  },
  {
   "cell_type": "markdown",
   "metadata": {},
   "source": [
    "### Carga de los quarks\n",
    "\n",
    "Los protones y neutrones están formados cada uno por tres quarks. Los protones poseen dos quarks up (u) y un quark down (d), los neutrones poseen un quark up y dos quarks down. Si la carga de un protón es igual al positivo de la carga del electrón $(+e)$ y la carga de un neutrón es cero, determine las cargas de los quarks up y down. (Tip: suponga que $+e=1$.)\n"
   ]
  },
  {
   "cell_type": "raw",
   "metadata": {
    "vscode": {
     "languageId": "raw"
    }
   },
   "source": [
    "protón:\n",
    "2u + d = 1\n",
    "neutrón:\n",
    "u + 2d = 0"
   ]
  },
  {
   "cell_type": "code",
   "execution_count": 4,
   "metadata": {},
   "outputs": [
    {
     "name": "stdout",
     "output_type": "stream",
     "text": [
      "La matriz de coeficientes es:\n",
      "  [[2. 1.]\n",
      " [1. 2.]]\n",
      "La matriz constante es:\n",
      "  [[1.]\n",
      " [0.]]\n",
      "La matriz aumentada es :\n",
      " [[2. 1. 1.]\n",
      " [1. 2. 0.]]\n",
      "El siguiente elemento del procedimiento es: \n",
      "[[ 2.   1.   1. ]\n",
      " [ 0.   1.5 -0.5]]\n",
      "La carga de los quark up y down es:\n",
      " [[ 0.66666667]\n",
      " [-0.33333333]] \n",
      " respectivamente.\n"
     ]
    }
   ],
   "source": [
    "a = np.array([[2.0, 1.0], [1.0, 2.0]])\n",
    "print('La matriz de coeficientes es:\\n ', a)\n",
    "b = np.array([[1.0], [0]])\n",
    "n = len(b)\n",
    "print('La matriz constante es:\\n ', b)\n",
    "\n",
    "matriz_aumentada = np.concatenate((a,b), axis=1, dtype=float)\n",
    "print('La matriz aumentada es :\\n', matriz_aumentada)\n",
    "\n",
    "\n",
    "def gaussElimin(a,b):\n",
    "  # Fase de eliminacion\n",
    "  for k in range(0,n-1):\n",
    "    for i in range(k+1,n):\n",
    "      if matriz_aumentada[i,k] != 0.0:\n",
    "        lam = matriz_aumentada[i,k]/matriz_aumentada[k,k]\n",
    "        matriz_aumentada[i] = matriz_aumentada[i] - lam*matriz_aumentada[k]\n",
    "        b[i] = b[i] - lam*b[k]\n",
    "        print(f'El siguiente elemento del procedimiento es: {'\\n'}{matriz_aumentada}')\n",
    "  # Fase de sustitucion hacia atras\n",
    "  for k in range(n-1,-1,-1):\n",
    "    b[k] = (b[k] - np.dot(matriz_aumentada[k,k+1:n],b[k+1:n]))/matriz_aumentada[k,k]\n",
    "  return b\n",
    "\n",
    "\n",
    "print('La carga de los quark up y down es:\\n',gaussElimin(a,b), '\\n respectivamente.' )"
   ]
  },
  {
   "cell_type": "markdown",
   "metadata": {},
   "source": [
    "### Meteoros\n",
    "\n",
    "El Centro de Investigación 1 examina la cantidad de meteoros que entran a la atmósfera. Con su equipo de recopilación de datos durante 8 horas captó 95kg de meteoros, por fuentes externas sabemos que fueron de 4 distintas masas (1kg, 5kg, 10kg y 20kg). La cantidad total de meteoros fue de 26. Otro centro de investigación captó que la cantidad de meteoros de 5kg es 4 veces la cantidad de meteoros de 10kg, y el número de meteoros de 1kg es 1 menos que el doble de la cantidad de meteoros de 5kg. Después\n",
    "use matrices para encontrar el número asociado a cada masa de meteoros.\n"
   ]
  },
  {
   "cell_type": "raw",
   "metadata": {
    "vscode": {
     "languageId": "raw"
    }
   },
   "source": [
    "variables: 1kg, 5kg, 10kg, 20kg\n",
    "\n",
    "1*1kg + 5*5kg + 10*10kg + 20*20kg = 95\n",
    "1kg + 5kg + 10kg + 20kg = 26\n",
    "5kg - 4*10kg = 0\n",
    "1kg - 2*5kg = -1\n"
   ]
  },
  {
   "cell_type": "code",
   "execution_count": 7,
   "metadata": {},
   "outputs": [
    {
     "name": "stdout",
     "output_type": "stream",
     "text": [
      "La matriz de coeficientes es:\n",
      "  [[ 1.  5. 10. 20.]\n",
      " [ 1.  1.  1.  1.]\n",
      " [ 0.  1. -4.  0.]\n",
      " [ 1. -2.  0.  0.]]\n",
      "La matriz constante es:\n",
      "  [[95.]\n",
      " [26.]\n",
      " [ 0.]\n",
      " [-1.]]\n",
      "La matriz aumentada es :\n",
      " [[ 1.  5. 10. 20. 95.]\n",
      " [ 1.  1.  1.  1. 26.]\n",
      " [ 0.  1. -4.  0.  0.]\n",
      " [ 1. -2.  0.  0. -1.]]\n",
      "El siguiente elemento del procedimiento es: \n",
      "[[  1.   5.  10.  20.  95.]\n",
      " [  0.  -4.  -9. -19. -69.]\n",
      " [  0.   1.  -4.   0.   0.]\n",
      " [  1.  -2.   0.   0.  -1.]]\n",
      "El siguiente elemento del procedimiento es: \n",
      "[[  1.   5.  10.  20.  95.]\n",
      " [  0.  -4.  -9. -19. -69.]\n",
      " [  0.   1.  -4.   0.   0.]\n",
      " [  0.  -7. -10. -20. -96.]]\n",
      "El siguiente elemento del procedimiento es: \n",
      "[[  1.     5.    10.    20.    95.  ]\n",
      " [  0.    -4.    -9.   -19.   -69.  ]\n",
      " [  0.     0.    -6.25  -4.75 -17.25]\n",
      " [  0.    -7.   -10.   -20.   -96.  ]]\n",
      "El siguiente elemento del procedimiento es: \n",
      "[[  1.     5.    10.    20.    95.  ]\n",
      " [  0.    -4.    -9.   -19.   -69.  ]\n",
      " [  0.     0.    -6.25  -4.75 -17.25]\n",
      " [  0.     0.     5.75  13.25  24.75]]\n",
      "El siguiente elemento del procedimiento es: \n",
      "[[  1.     5.    10.    20.    95.  ]\n",
      " [  0.    -4.    -9.   -19.   -69.  ]\n",
      " [  0.     0.    -6.25  -4.75 -17.25]\n",
      " [  0.     0.     0.     8.88   8.88]]\n",
      "El número de meteoros de 1kg, 5kg, 10kg, 20kg es :\n",
      " [[15.]\n",
      " [ 8.]\n",
      " [ 2.]\n",
      " [ 1.]] \n",
      " respectivamente\n"
     ]
    }
   ],
   "source": [
    "a = np.array([[1.0, 5.0, 10.0, 20.0], [1.0, 1.0, 1.0, 1.0], [0, 1.0, -4.0, 0.0],[1.0, -2.0, 0, 0]])\n",
    "print('La matriz de coeficientes es:\\n ', a)\n",
    "b = np.array([[95.0], [26.0], [0], [-1.0]])\n",
    "n = len(b)\n",
    "print('La matriz constante es:\\n ', b)\n",
    "\n",
    "matriz_aumentada = np.concatenate((a,b), axis=1, dtype=float)\n",
    "print('La matriz aumentada es :\\n', matriz_aumentada)\n",
    "\n",
    "\n",
    "def gaussElimin(a,b):\n",
    "  # Fase de eliminacion\n",
    "  for k in range(0,n-1):\n",
    "    for i in range(k+1,n):\n",
    "      if matriz_aumentada[i,k] != 0.0:\n",
    "        lam = matriz_aumentada[i,k]/matriz_aumentada[k,k]\n",
    "        matriz_aumentada[i] = matriz_aumentada[i] - lam*matriz_aumentada[k]\n",
    "        b[i] = b[i] - lam*b[k]\n",
    "        print(f'El siguiente elemento del procedimiento es: {'\\n'}{matriz_aumentada}')\n",
    "  # Fase de sustitucion hacia atras\n",
    "  for k in range(n-1,-1,-1):\n",
    "    b[k] = (b[k] - np.dot(matriz_aumentada[k,k+1:n],b[k+1:n]))/matriz_aumentada[k,k]\n",
    "  return b\n",
    "\n",
    "\n",
    "print('El número de meteoros de 1kg, 5kg, 10kg, 20kg es :\\n',gaussElimin(a,b), '\\n respectivamente')"
   ]
  },
  {
   "cell_type": "code",
   "execution_count": null,
   "metadata": {},
   "outputs": [],
   "source": []
  }
 ],
 "metadata": {
  "kernelspec": {
   "display_name": "Python 3",
   "language": "python",
   "name": "python3"
  },
  "language_info": {
   "codemirror_mode": {
    "name": "ipython",
    "version": 3
   },
   "file_extension": ".py",
   "mimetype": "text/x-python",
   "name": "python",
   "nbconvert_exporter": "python",
   "pygments_lexer": "ipython3",
   "version": "3.12.3"
  }
 },
 "nbformat": 4,
 "nbformat_minor": 2
}
